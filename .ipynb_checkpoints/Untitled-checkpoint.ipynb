{
 "cells": [
  {
   "cell_type": "markdown",
   "id": "7c0bd39d-35e2-425d-8463-ebbde4723141",
   "metadata": {},
   "source": [
    "1. 点击查询按钮，捕获到ajax请求。\n",
    "2. 分析捕获到的数据包：\n",
    "   - 可以提取请求的url https://www.aqistudy.cn/apinew/aqistudyapi.php\n",
    "   - 请求方式 POST\n",
    "   - 请求参数：d:动态变化的一组数据（加密）\n",
    "   - 响应数据：Response加密的密文数据，前台接收后使用解密（js函数），显示原文数据\n",
    "3. 找ajax请求对应的代码\n",
    "   - 3.1. 处理动态变化的请求参数（火狐浏览器定位查询）\n",
    "   - "
   ]
  },
  {
   "cell_type": "code",
   "execution_count": 3,
   "id": "b7dc19ed-e93c-454e-a6c4-c61df888c3eb",
   "metadata": {},
   "outputs": [
    {
     "name": "stdout",
     "output_type": "stream",
     "text": [
      "Collecting PyExecJS\n",
      "  Downloading PyExecJS-1.5.1.tar.gz (13 kB)\n",
      "  Installing build dependencies: started\n",
      "  Installing build dependencies: finished with status 'done'\n",
      "  Getting requirements to build wheel: started\n",
      "  Getting requirements to build wheel: finished with status 'done'\n",
      "  Preparing metadata (pyproject.toml): started\n",
      "  Preparing metadata (pyproject.toml): finished with status 'done'\n",
      "Requirement already satisfied: six>=1.10.0 in c:\\users\\wbr\\appdata\\local\\programs\\python\\python312\\lib\\site-packages (from PyExecJS) (1.16.0)\n",
      "Building wheels for collected packages: PyExecJS\n",
      "  Building wheel for PyExecJS (pyproject.toml): started\n",
      "  Building wheel for PyExecJS (pyproject.toml): finished with status 'done'\n",
      "  Created wheel for PyExecJS: filename=PyExecJS-1.5.1-py3-none-any.whl size=14611 sha256=1e7f068f71cc996dadf100ef12a1c21382db1c82582c07a51efba0b0cfba0aef\n",
      "  Stored in directory: c:\\users\\wbr\\appdata\\local\\pip\\cache\\wheels\\95\\1c\\16\\774a935204aacf741cea3deae76c535050d19727c72613d80f\n",
      "Successfully built PyExecJS\n",
      "Installing collected packages: PyExecJS\n",
      "Successfully installed PyExecJS-1.5.1\n"
     ]
    }
   ],
   "source": [
    "! pip install PyExecJS"
   ]
  },
  {
   "cell_type": "code",
   "execution_count": 4,
   "id": "06bb10ac-23d6-4eb3-8234-c58718ec63b5",
   "metadata": {},
   "outputs": [
    {
     "ename": "FileNotFoundError",
     "evalue": "[Errno 2] No such file or directory: 'jsCode.js'",
     "output_type": "error",
     "traceback": [
      "\u001b[1;31m---------------------------------------------------------------------------\u001b[0m",
      "\u001b[1;31mFileNotFoundError\u001b[0m                         Traceback (most recent call last)",
      "Cell \u001b[1;32mIn[4], line 14\u001b[0m\n\u001b[0;32m     12\u001b[0m \u001b[38;5;66;03m# Compile javascript\u001b[39;00m\n\u001b[0;32m     13\u001b[0m file \u001b[38;5;241m=\u001b[39m \u001b[38;5;124m'\u001b[39m\u001b[38;5;124mjsCode.js\u001b[39m\u001b[38;5;124m'\u001b[39m\n\u001b[1;32m---> 14\u001b[0m ctx \u001b[38;5;241m=\u001b[39m node\u001b[38;5;241m.\u001b[39mcompile(\u001b[38;5;28;43mopen\u001b[39;49m\u001b[43m(\u001b[49m\u001b[43mfile\u001b[49m\u001b[43m,\u001b[49m\u001b[43mencoding\u001b[49m\u001b[38;5;241;43m=\u001b[39;49m\u001b[38;5;124;43m'\u001b[39;49m\u001b[38;5;124;43mutf-8\u001b[39;49m\u001b[38;5;124;43m'\u001b[39;49m\u001b[43m)\u001b[49m\u001b[38;5;241m.\u001b[39mread())\n\u001b[0;32m     16\u001b[0m \u001b[38;5;66;03m# Get params\u001b[39;00m\n\u001b[0;32m     17\u001b[0m js \u001b[38;5;241m=\u001b[39m \u001b[38;5;124m'\u001b[39m\u001b[38;5;124mgetPostParamCode(\u001b[39m\u001b[38;5;124m\"\u001b[39m\u001b[38;5;132;01m{0}\u001b[39;00m\u001b[38;5;124m\"\u001b[39m\u001b[38;5;124m, \u001b[39m\u001b[38;5;124m\"\u001b[39m\u001b[38;5;132;01m{1}\u001b[39;00m\u001b[38;5;124m\"\u001b[39m\u001b[38;5;124m, \u001b[39m\u001b[38;5;124m\"\u001b[39m\u001b[38;5;132;01m{2}\u001b[39;00m\u001b[38;5;124m\"\u001b[39m\u001b[38;5;124m, \u001b[39m\u001b[38;5;124m\"\u001b[39m\u001b[38;5;132;01m{3}\u001b[39;00m\u001b[38;5;124m\"\u001b[39m\u001b[38;5;124m, \u001b[39m\u001b[38;5;124m\"\u001b[39m\u001b[38;5;132;01m{4}\u001b[39;00m\u001b[38;5;124m\"\u001b[39m\u001b[38;5;124m)\u001b[39m\u001b[38;5;124m'\u001b[39m\u001b[38;5;241m.\u001b[39mformat(method, city, \u001b[38;5;28mtype\u001b[39m, start_time, end_time)\n",
      "File \u001b[1;32m~\\AppData\\Local\\Programs\\Python\\Python312\\Lib\\site-packages\\IPython\\core\\interactiveshell.py:324\u001b[0m, in \u001b[0;36m_modified_open\u001b[1;34m(file, *args, **kwargs)\u001b[0m\n\u001b[0;32m    317\u001b[0m \u001b[38;5;28;01mif\u001b[39;00m file \u001b[38;5;129;01min\u001b[39;00m {\u001b[38;5;241m0\u001b[39m, \u001b[38;5;241m1\u001b[39m, \u001b[38;5;241m2\u001b[39m}:\n\u001b[0;32m    318\u001b[0m     \u001b[38;5;28;01mraise\u001b[39;00m \u001b[38;5;167;01mValueError\u001b[39;00m(\n\u001b[0;32m    319\u001b[0m         \u001b[38;5;124mf\u001b[39m\u001b[38;5;124m\"\u001b[39m\u001b[38;5;124mIPython won\u001b[39m\u001b[38;5;124m'\u001b[39m\u001b[38;5;124mt let you open fd=\u001b[39m\u001b[38;5;132;01m{\u001b[39;00mfile\u001b[38;5;132;01m}\u001b[39;00m\u001b[38;5;124m by default \u001b[39m\u001b[38;5;124m\"\u001b[39m\n\u001b[0;32m    320\u001b[0m         \u001b[38;5;124m\"\u001b[39m\u001b[38;5;124mas it is likely to crash IPython. If you know what you are doing, \u001b[39m\u001b[38;5;124m\"\u001b[39m\n\u001b[0;32m    321\u001b[0m         \u001b[38;5;124m\"\u001b[39m\u001b[38;5;124myou can use builtins\u001b[39m\u001b[38;5;124m'\u001b[39m\u001b[38;5;124m open.\u001b[39m\u001b[38;5;124m\"\u001b[39m\n\u001b[0;32m    322\u001b[0m     )\n\u001b[1;32m--> 324\u001b[0m \u001b[38;5;28;01mreturn\u001b[39;00m \u001b[43mio_open\u001b[49m\u001b[43m(\u001b[49m\u001b[43mfile\u001b[49m\u001b[43m,\u001b[49m\u001b[43m \u001b[49m\u001b[38;5;241;43m*\u001b[39;49m\u001b[43margs\u001b[49m\u001b[43m,\u001b[49m\u001b[43m \u001b[49m\u001b[38;5;241;43m*\u001b[39;49m\u001b[38;5;241;43m*\u001b[39;49m\u001b[43mkwargs\u001b[49m\u001b[43m)\u001b[49m\n",
      "\u001b[1;31mFileNotFoundError\u001b[0m: [Errno 2] No such file or directory: 'jsCode.js'"
     ]
    }
   ],
   "source": [
    "import execjs\n",
    "\n",
    "node = execjs.get()\n",
    "# Params\n",
    "method = 'GETCITYWEATHER'\n",
    "city = '金华'\n",
    "\n",
    "type = 'HOUR'\n",
    "start_time = '2018-01-25 00:00:00'\n",
    "end_time = '2018-01-25 23:00:00'\n",
    " \n",
    "# Compile javascript\n",
    "file = 'jsCode.js'\n",
    "ctx = node.compile(open(file,encoding='utf-8').read())\n",
    " \n",
    "# Get params\n",
    "js = 'getPostParamCode(\"{0}\", \"{1}\", \"{2}\", \"{3}\", \"{4}\")'.format(method, city, type, start_time, end_time)\n",
    "params = ctx.eval(js)\n",
    "print(params)"
   ]
  },
  {
   "cell_type": "code",
   "execution_count": null,
   "id": "76c47156-9b95-401d-a9c1-d72ca26ae31e",
   "metadata": {},
   "outputs": [],
   "source": []
  },
  {
   "cell_type": "code",
   "execution_count": null,
   "id": "592778a8-c374-45f3-8806-37401d9c32eb",
   "metadata": {},
   "outputs": [],
   "source": []
  }
 ],
 "metadata": {
  "kernelspec": {
   "display_name": "Python 3 (ipykernel)",
   "language": "python",
   "name": "python3"
  },
  "language_info": {
   "codemirror_mode": {
    "name": "ipython",
    "version": 3
   },
   "file_extension": ".py",
   "mimetype": "text/x-python",
   "name": "python",
   "nbconvert_exporter": "python",
   "pygments_lexer": "ipython3",
   "version": "3.12.4"
  }
 },
 "nbformat": 4,
 "nbformat_minor": 5
}
